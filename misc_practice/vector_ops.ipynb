{
  "nbformat": 4,
  "nbformat_minor": 0,
  "metadata": {
    "colab": {
      "provenance": [],
      "authorship_tag": "ABX9TyMrPqLN6KupHd+YQX45H0fr",
      "include_colab_link": true
    },
    "kernelspec": {
      "name": "python3",
      "display_name": "Python 3"
    },
    "language_info": {
      "name": "python"
    }
  },
  "cells": [
    {
      "cell_type": "markdown",
      "metadata": {
        "id": "view-in-github",
        "colab_type": "text"
      },
      "source": [
        "<a href=\"https://colab.research.google.com/github/netajik/mathematics-for-ml/blob/master/vector_ops.ipynb\" target=\"_parent\"><img src=\"https://colab.research.google.com/assets/colab-badge.svg\" alt=\"Open In Colab\"/></a>"
      ]
    },
    {
      "cell_type": "code",
      "execution_count": null,
      "metadata": {
        "colab": {
          "base_uri": "https://localhost:8080/"
        },
        "id": "k-X1vAHkQhI1",
        "outputId": "6b32a439-e69c-479d-c694-77f1335dfb06"
      },
      "outputs": [
        {
          "output_type": "stream",
          "name": "stdout",
          "text": [
            "vector addition\n",
            "[3 4 4]\n",
            "substraction\n",
            "[-1 -6  0]\n",
            "[ 3 -3  6]\n",
            "2.449489742783178\n",
            "dot product\n",
            "1\n"
          ]
        }
      ],
      "source": [
        "#numpy is used for all types of array operations\n",
        "import numpy as np\n",
        "\n",
        "#vectors\n",
        "v = np.array([1,-1,2])\n",
        "w = np.array([2,5,2])\n",
        "\n",
        "print(\"vector addition\")\n",
        "print(v+w)\n",
        "\n",
        "print(\"substraction\")\n",
        "print(v-w)\n",
        "\n",
        "#Scalar multiplication:\n",
        "print(3*v)\n",
        "\n",
        "print(np.linalg.norm(v)) #length of vector\n",
        "\n",
        "print(\"dot product\")\n",
        "print(np.dot(v,w))\n"
      ]
    },
    {
      "cell_type": "code",
      "source": [
        "#Matrix operations\n",
        "import numpy as np\n",
        "P = np.array([[1,7],[2,1],[3,2]])\n",
        "print(P)\n",
        "Q=np.array([[1,2],[1,-1],[1,0]])\n",
        "print(Q)\n",
        "C1=np.subtract(P,Q)\n",
        "print(C1)\n",
        "\n",
        "# np.dot(P,Q)  shapes (3,2) and (3,2) not aligned: 2 (dim 1) != 3 (dim 0)\n",
        "\n",
        "R = np.array([[1,3,1],[1,0,1]])\n",
        "C2 = np.dot(P,R)\n",
        "print(C2)\n",
        "\n",
        "det = np.linalg.det(C2)\n",
        "print(det)\n",
        "\n",
        "# S2 = np.linalg.inv(C2) Singular matrix, det of C2 is 0\n",
        "# print(S2)\n",
        "\n",
        "M = np.array([[1,-1],[2,3]])\n",
        "print(M)\n",
        "print(np.linalg.inv(M))\n"
      ],
      "metadata": {
        "colab": {
          "base_uri": "https://localhost:8080/"
        },
        "id": "3mWXqgsGdr04",
        "outputId": "4a12dd77-d603-4aad-8017-c6e622749215"
      },
      "execution_count": 18,
      "outputs": [
        {
          "output_type": "stream",
          "name": "stdout",
          "text": [
            "[[1 7]\n",
            " [2 1]\n",
            " [3 2]]\n",
            "[[ 1  2]\n",
            " [ 1 -1]\n",
            " [ 1  0]]\n",
            "[[0 5]\n",
            " [1 2]\n",
            " [2 2]]\n",
            "[[8 3 8]\n",
            " [3 6 3]\n",
            " [5 9 5]]\n",
            "0.0\n",
            "[[ 1 -1]\n",
            " [ 2  3]]\n",
            "[[ 0.6  0.2]\n",
            " [-0.4  0.2]]\n"
          ]
        }
      ]
    }
  ]
}