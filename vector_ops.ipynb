{
  "nbformat": 4,
  "nbformat_minor": 0,
  "metadata": {
    "colab": {
      "provenance": [],
      "authorship_tag": "ABX9TyOvUAIrKtydYZr9TRPJ1lMV",
      "include_colab_link": true
    },
    "kernelspec": {
      "name": "python3",
      "display_name": "Python 3"
    },
    "language_info": {
      "name": "python"
    }
  },
  "cells": [
    {
      "cell_type": "markdown",
      "metadata": {
        "id": "view-in-github",
        "colab_type": "text"
      },
      "source": [
        "<a href=\"https://colab.research.google.com/github/netajik/mathematics-for-ml/blob/master/vector_ops.ipynb\" target=\"_parent\"><img src=\"https://colab.research.google.com/assets/colab-badge.svg\" alt=\"Open In Colab\"/></a>"
      ]
    },
    {
      "cell_type": "code",
      "execution_count": null,
      "metadata": {
        "colab": {
          "base_uri": "https://localhost:8080/"
        },
        "id": "k-X1vAHkQhI1",
        "outputId": "6b32a439-e69c-479d-c694-77f1335dfb06"
      },
      "outputs": [
        {
          "output_type": "stream",
          "name": "stdout",
          "text": [
            "vector addition\n",
            "[3 4 4]\n",
            "substraction\n",
            "[-1 -6  0]\n",
            "[ 3 -3  6]\n",
            "2.449489742783178\n",
            "dot product\n",
            "1\n"
          ]
        }
      ],
      "source": [
        "#numpy is used for all types of array operations\n",
        "import numpy as np\n",
        "\n",
        "#vectors\n",
        "v = np.array([1,-1,2])\n",
        "w = np.array([2,5,2])\n",
        "\n",
        "print(\"vector addition\")\n",
        "print(v+w)\n",
        "\n",
        "print(\"substraction\")\n",
        "print(v-w)\n",
        "\n",
        "#Scalar multiplication:\n",
        "print(3*v)\n",
        "\n",
        "print(np.linalg.norm(v))\n",
        "\n",
        "print(\"dot product\")\n",
        "print(np.dot(v,w))\n"
      ]
    }
  ]
}