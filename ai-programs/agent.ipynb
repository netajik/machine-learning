{
 "cells": [
  {
   "cell_type": "markdown",
   "metadata": {},
   "source": [
    "Simple Reflex Agent"
   ]
  },
  {
   "cell_type": "code",
   "execution_count": 4,
   "metadata": {},
   "outputs": [
    {
     "name": "stdout",
     "output_type": "stream",
     "text": [
      "Initial environment: \n",
      "[['DIRTY' 'CLEAN' 'DIRTY']\n",
      " ['CLEAN' 'DIRTY' 'CLEAN']\n",
      " ['DIRTY' 'DIRTY' 'CLEAN']]\n",
      "\n",
      "\n"
     ]
    },
    {
     "ename": "NameError",
     "evalue": "name 'SimpleReflexAgent' is not defined",
     "output_type": "error",
     "traceback": [
      "\u001b[1;31m---------------------------------------------------------------------------\u001b[0m",
      "\u001b[1;31mNameError\u001b[0m                                 Traceback (most recent call last)",
      "Cell \u001b[1;32mIn[4], line 13\u001b[0m\n\u001b[0;32m      5\u001b[0m environment \u001b[38;5;241m=\u001b[39m np\u001b[38;5;241m.\u001b[39marray([\n\u001b[0;32m      6\u001b[0m     [\u001b[38;5;124m'\u001b[39m\u001b[38;5;124mDIRTY\u001b[39m\u001b[38;5;124m'\u001b[39m,\u001b[38;5;124m'\u001b[39m\u001b[38;5;124mCLEAN\u001b[39m\u001b[38;5;124m'\u001b[39m,\u001b[38;5;124m'\u001b[39m\u001b[38;5;124mDIRTY\u001b[39m\u001b[38;5;124m'\u001b[39m],\n\u001b[0;32m      7\u001b[0m     [\u001b[38;5;124m'\u001b[39m\u001b[38;5;124mCLEAN\u001b[39m\u001b[38;5;124m'\u001b[39m,\u001b[38;5;124m'\u001b[39m\u001b[38;5;124mDIRTY\u001b[39m\u001b[38;5;124m'\u001b[39m,\u001b[38;5;124m'\u001b[39m\u001b[38;5;124mCLEAN\u001b[39m\u001b[38;5;124m'\u001b[39m],\n\u001b[0;32m      8\u001b[0m     [\u001b[38;5;124m'\u001b[39m\u001b[38;5;124mDIRTY\u001b[39m\u001b[38;5;124m'\u001b[39m,\u001b[38;5;124m'\u001b[39m\u001b[38;5;124mDIRTY\u001b[39m\u001b[38;5;124m'\u001b[39m,\u001b[38;5;124m'\u001b[39m\u001b[38;5;124mCLEAN\u001b[39m\u001b[38;5;124m'\u001b[39m]\n\u001b[0;32m      9\u001b[0m     ]\n\u001b[0;32m     10\u001b[0m )\n\u001b[0;32m     12\u001b[0m \u001b[38;5;28mprint\u001b[39m(\u001b[38;5;124mf\u001b[39m\u001b[38;5;124m\"\u001b[39m\u001b[38;5;124mInitial environment: \u001b[39m\u001b[38;5;130;01m\\n\u001b[39;00m\u001b[38;5;132;01m{\u001b[39;00menvironment\u001b[38;5;132;01m}\u001b[39;00m\u001b[38;5;130;01m\\n\u001b[39;00m\u001b[38;5;130;01m\\n\u001b[39;00m\u001b[38;5;124m\"\u001b[39m)\n\u001b[1;32m---> 13\u001b[0m agent \u001b[38;5;241m=\u001b[39m \u001b[43mSimpleReflexAgent\u001b[49m()\n\u001b[0;32m     15\u001b[0m \u001b[38;5;28;01mwhile\u001b[39;00m \u001b[38;5;28;01mTrue\u001b[39;00m:\n\u001b[0;32m     16\u001b[0m     \u001b[38;5;28;01mif\u001b[39;00m np\u001b[38;5;241m.\u001b[39mall(agent\u001b[38;5;241m.\u001b[39menvironment\u001b[38;5;241m==\u001b[39m\u001b[38;5;124m'\u001b[39m\u001b[38;5;124mCLEAN\u001b[39m\u001b[38;5;124m'\u001b[39m):\n",
      "\u001b[1;31mNameError\u001b[0m: name 'SimpleReflexAgent' is not defined"
     ]
    }
   ],
   "source": [
    "import numpy as np\n",
    "\n",
    "import time\n",
    "\n",
    "environment = np.array([\n",
    "    ['DIRTY','CLEAN','DIRTY'],\n",
    "    ['CLEAN','DIRTY','CLEAN'],\n",
    "    ['DIRTY','DIRTY','CLEAN']\n",
    "    ]\n",
    ")\n",
    "\n",
    "print(f\"Initial environment: \\n{environment}\\n\\n\")\n",
    "agent = SimpleReflexAgent()\n",
    "\n",
    "while True:\n",
    "    if np.all(agent.environment=='CLEAN'):\n",
    "        print(\"All locations are clean. Stopping.\")\n",
    "        break\n",
    "\n",
    "    agent.act()\n",
    "    print(\"\")\n",
    "    time.sleep(5)\n",
    "\n",
    "\n",
    "class SimpleReflexAgent:\n",
    "    def __init__(self, environment):\n",
    "        self.location = (0,0)\n",
    "        self.environment = environment\n",
    "\n",
    "    def perceive(self):\n",
    "        return self.environment[self.location] == 'DIRTY' #Then return True\n",
    "\n",
    "    def act(self): #Perform the action and move\n",
    "        if self.perceive():\n",
    "            print(f\"Location {self.location} is DIRTY\")\n",
    "            self.environment[self.location] = 'CLEAN' \n",
    "        else:\n",
    "            print(f\"Location {self.location} is CLEAN\")\n",
    "            self.move()\n",
    "\n",
    "    def move(self): #Decide the next move\n",
    "        # Every time we have to provide environment to agent, we should not pass it,\n",
    "        # because simple reflex agent is not aware of environment\n",
    "        rows, cols = self.environment.shape\n",
    "        row, col = self.location\n",
    "        if col+1 < cols:\n",
    "            self.location = (row, col+1)\n",
    "        elif row+1 < rows:\n",
    "            self.location = (row+1,0)\n",
    "        else:\n",
    "            print(\"No More moves. cleaning completed.\")\n"
   ]
  },
  {
   "cell_type": "markdown",
   "metadata": {},
   "source": [
    "Utility-based Agent"
   ]
  },
  {
   "cell_type": "code",
   "execution_count": null,
   "metadata": {},
   "outputs": [],
   "source": []
  }
 ],
 "metadata": {
  "kernelspec": {
   "display_name": "Python 3",
   "language": "python",
   "name": "python3"
  },
  "language_info": {
   "codemirror_mode": {
    "name": "ipython",
    "version": 3
   },
   "file_extension": ".py",
   "mimetype": "text/x-python",
   "name": "python",
   "nbconvert_exporter": "python",
   "pygments_lexer": "ipython3",
   "version": "3.12.8"
  }
 },
 "nbformat": 4,
 "nbformat_minor": 2
}
