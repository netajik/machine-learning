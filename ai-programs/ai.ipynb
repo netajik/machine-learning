{
 "cells": [
  {
   "cell_type": "code",
   "execution_count": 3,
   "metadata": {},
   "outputs": [
    {
     "name": "stdout",
     "output_type": "stream",
     "text": [
      "Warehouse Configuration:\n",
      "[['O' ' ' ' ' ' ' ' ']\n",
      " [' ' 'O' ' ' ' ' ' ']\n",
      " ['P' ' ' ' ' ' ' ' ']\n",
      " [' ' 'P' ' ' ' ' 'O']\n",
      " [' ' ' ' ' ' ' ' ' ']\n",
      " [' ' ' ' ' ' ' ' ' ']\n",
      " [' ' ' ' ' ' ' ' ' ']\n",
      " [' ' ' ' ' ' ' ' ' ']\n",
      " ['D' 'O' ' ' 'R' ' ']\n",
      " ['O' ' ' ' ' 'D' ' ']]\n",
      "Package Locations: [(3, 1), (2, 0)]\n",
      "Drop-off Locations: [(8, 0), (9, 3)]\n",
      "Obstacle Locations: [(0, 0), (1, 1), (3, 4), (9, 0), (8, 1)]\n",
      "Robot Start Position: (8, 3)\n"
     ]
    }
   ],
   "source": [
    "import random\n",
    "import numpy as np\n",
    "\n",
    "# Set random seed for reproducibility\n",
    "random.seed(42)\n",
    "\n",
    "# Parameters\n",
    "N = random.randint(5, 10)  # Warehouse rows\n",
    "M = random.randint(5, 10)  # Warehouse columns\n",
    "P = random.randint(2, 6)   # Number of packages\n",
    "O = random.randint(1, 10)  # Number of obstacles\n",
    "\n",
    "# Initialize warehouse grid\n",
    "warehouse = np.full((N, M), ' ')  # Empty grid\n",
    "\n",
    "# Place packages and drop-off points\n",
    "package_locations = []\n",
    "dropoff_locations = []\n",
    "while len(package_locations) < P:\n",
    "    x, y = random.randint(0, N-1), random.randint(0, M-1)\n",
    "    if warehouse[x, y] == ' ':  # Ensure no overlap\n",
    "        warehouse[x, y] = 'P'  # Mark package\n",
    "        package_locations.append((x, y))\n",
    "\n",
    "while len(dropoff_locations) < P:\n",
    "    x, y = random.randint(0, N-1), random.randint(0, M-1)\n",
    "    if warehouse[x, y] == ' ':  # Ensure no overlap\n",
    "        warehouse[x, y] = 'D'  # Mark drop-off point\n",
    "        dropoff_locations.append((x, y))\n",
    "\n",
    "# Place obstacles\n",
    "obstacle_locations = []\n",
    "while len(obstacle_locations) < O:\n",
    "    x, y = random.randint(0, N-1), random.randint(0, M-1)\n",
    "    if warehouse[x, y] == ' ':  # Ensure no overlap\n",
    "        warehouse[x, y] = 'O'  # Mark obstacle\n",
    "        obstacle_locations.append((x, y))\n",
    "\n",
    "# Define robot starting position\n",
    "while True:\n",
    "    Sx, Sy = random.randint(0, N-1), random.randint(0, M-1)\n",
    "    if warehouse[Sx, Sy] == ' ':  # Ensure no overlap\n",
    "        warehouse[Sx, Sy] = 'R'  # Mark robot\n",
    "        robot_start = (Sx, Sy)\n",
    "        break\n",
    "\n",
    "# Display initial warehouse configuration\n",
    "print(\"Warehouse Configuration:\")\n",
    "print(warehouse)\n",
    "print(\"Package Locations:\", package_locations)\n",
    "print(\"Drop-off Locations:\", dropoff_locations)\n",
    "print(\"Obstacle Locations:\", obstacle_locations)\n",
    "print(\"Robot Start Position:\", robot_start)"
   ]
  },
  {
   "cell_type": "code",
   "execution_count": null,
   "metadata": {},
   "outputs": [],
   "source": []
  }
 ],
 "metadata": {
  "kernelspec": {
   "display_name": "Python 3",
   "language": "python",
   "name": "python3"
  },
  "language_info": {
   "codemirror_mode": {
    "name": "ipython",
    "version": 3
   },
   "file_extension": ".py",
   "mimetype": "text/x-python",
   "name": "python",
   "nbconvert_exporter": "python",
   "pygments_lexer": "ipython3",
   "version": "3.12.8"
  }
 },
 "nbformat": 4,
 "nbformat_minor": 2
}
